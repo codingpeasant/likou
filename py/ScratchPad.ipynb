{
 "cells": [
  {
   "cell_type": "code",
   "execution_count": 1,
   "metadata": {},
   "outputs": [
    {
     "name": "stdout",
     "output_type": "stream",
     "text": [
      "1\n"
     ]
    }
   ],
   "source": [
    "from bisect import bisect_left\n",
    "from collections import Counter, defaultdict\n",
    "\n",
    "from typing import List\n",
    "\n",
    "\n",
    "class Solution:\n",
    "    def largestPathValue(self, colors: str, edges: List[List[int]]) -> int:\n",
    "        graph, n = defaultdict(list), len(colors)\n",
    "        visited = [-1] * n # -1 never visited, 0 visited and children don't have cycle, 1 visited and children have cycle\n",
    "        for u, v in edges:\n",
    "            graph[u].append(v)\n",
    "\n",
    "        def hasCycle(root: int) -> bool:\n",
    "            if visited[root] == 1:\n",
    "                return True\n",
    "            if visited[root] == 0:\n",
    "                return False\n",
    "            \n",
    "            visited[root] = 1 # assume 1 - if its nei encountered root, there is a cycle\n",
    "            for nei in graph[root]:\n",
    "                if hasCycle(nei):\n",
    "                    return True\n",
    "            visited[root] = 0\n",
    "            return False\n",
    "        \n",
    "        for node in range(0, n):\n",
    "            if hasCycle(node):\n",
    "                return 1        \n",
    "        return 0\n",
    "        \n",
    "\n",
    "\n",
    "s = Solution()\n",
    "colors = \"abaca\"\n",
    "edges = [[0, 1], [0, 2], [2, 3], [3, 4], [4,0]]\n",
    "print(s.largestPathValue(colors, edges))\n"
   ]
  },
  {
   "cell_type": "code",
   "execution_count": 1,
   "metadata": {},
   "outputs": [
    {
     "data": {
      "text/plain": [
       "[('john', 'A', 15), ('jane', 'B', 12), ('dave', 'B', 10)]"
      ]
     },
     "execution_count": 1,
     "metadata": {},
     "output_type": "execute_result"
    }
   ],
   "source": [
    "sorted(\"This is a test string from Andrew\".split(), key=str.lower)\n",
    "student_tuples = [\n",
    "    ('john', 'A', 15),\n",
    "    ('jane', 'B', 12),\n",
    "    ('dave', 'B', 10),\n",
    "]\n",
    "sorted(student_tuples, key=lambda student: student[2], reverse=True)   # sort by age"
   ]
  },
  {
   "cell_type": "code",
   "execution_count": 9,
   "metadata": {},
   "outputs": [
    {
     "name": "stdout",
     "output_type": "stream",
     "text": [
      "[1, 2, 3, 4]\n",
      "6\n",
      "[1, 2, [3, 4]]\n"
     ]
    }
   ],
   "source": [
    "list_1=[1,2]\n",
    "print(list_1+[3,4])\n",
    "print(sum(list_1+[3,4][:1]))\n",
    "print(list_1+[[3,4]])"
   ]
  },
  {
   "cell_type": "code",
   "execution_count": 6,
   "metadata": {},
   "outputs": [
    {
     "name": "stdout",
     "output_type": "stream",
     "text": [
      "Counter({'a': 2, 'b': 2, 'c': 2, 'd': 1})\n",
      "3\n",
      "None\n"
     ]
    }
   ],
   "source": [
    "from collections import Counter\n",
    "counter1 = Counter(\"abc\")\n",
    "counter2 = Counter(\"abcd\")\n",
    "print(counter1+counter2)\n",
    "print(len(counter1.keys()))"
   ]
  },
  {
   "cell_type": "code",
   "execution_count": 1,
   "metadata": {},
   "outputs": [
    {
     "data": {
      "text/plain": [
       "True"
      ]
     },
     "execution_count": 1,
     "metadata": {},
     "output_type": "execute_result"
    }
   ],
   "source": [
    "emptyString = \"\"\n",
    "emptyString == emptyString[::-1]"
   ]
  },
  {
   "cell_type": "code",
   "execution_count": 2,
   "metadata": {},
   "outputs": [
    {
     "name": "stdout",
     "output_type": "stream",
     "text": [
      "0\n"
     ]
    }
   ],
   "source": [
    "from collections import defaultdict\n",
    "colors = defaultdict(int)\n",
    "print(colors[1])"
   ]
  },
  {
   "cell_type": "code",
   "execution_count": 1,
   "metadata": {},
   "outputs": [
    {
     "name": "stdout",
     "output_type": "stream",
     "text": [
      "97\n",
      "65\n"
     ]
    }
   ],
   "source": [
    "print(ord(\"a\"))\n",
    "print(ord(\"A\"))"
   ]
  },
  {
   "cell_type": "code",
   "execution_count": 8,
   "metadata": {},
   "outputs": [
    {
     "data": {
      "text/plain": [
       "2"
      ]
     },
     "execution_count": 8,
     "metadata": {},
     "output_type": "execute_result"
    }
   ],
   "source": [
    "\"abcabcd\".count(\"abc\")"
   ]
  }
 ],
 "metadata": {
  "kernelspec": {
   "display_name": "Python 3",
   "language": "python",
   "name": "python3"
  },
  "language_info": {
   "codemirror_mode": {
    "name": "ipython",
    "version": 3
   },
   "file_extension": ".py",
   "mimetype": "text/x-python",
   "name": "python",
   "nbconvert_exporter": "python",
   "pygments_lexer": "ipython3",
   "version": "3.10.11"
  },
  "orig_nbformat": 4
 },
 "nbformat": 4,
 "nbformat_minor": 2
}
