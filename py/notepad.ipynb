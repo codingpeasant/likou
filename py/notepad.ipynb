{
 "cells": [
  {
   "cell_type": "markdown",
   "metadata": {},
   "source": [
    "[Blind 75](https://leetcode.com/discuss/general-discussion/460599/blind-75-leetcode-questions)"
   ]
  },
  {
   "cell_type": "code",
   "execution_count": 1,
   "metadata": {},
   "outputs": [
    {
     "name": "stdout",
     "output_type": "stream",
     "text": [
      "[1, 2]\n"
     ]
    }
   ],
   "source": [
    "from collections import defaultdict\n",
    "from typing import List\n",
    "\n",
    "\n",
    "class Solution:\n",
    "    def twoSum(self, nums: List[int], target: int) -> List[int]:\n",
    "        sumDict, res = defaultdict(int), []\n",
    "        for i, num in enumerate(nums):\n",
    "            if num in sumDict:\n",
    "                return [sumDict[num], i]\n",
    "            sumDict[target - num] = i\n",
    "        return res\n",
    "\n",
    "\n",
    "s = Solution()\n",
    "print(s.twoSum([3, 2, 4], 6))"
   ]
  },
  {
   "cell_type": "code",
   "execution_count": 2,
   "metadata": {},
   "outputs": [
    {
     "name": "stdout",
     "output_type": "stream",
     "text": [
      "0\n"
     ]
    }
   ],
   "source": [
    "from typing import List\n",
    "\n",
    "\n",
    "class Solution:\n",
    "    def maxProfit(self, prices: List[int]) -> int:\n",
    "        bestBuy, bestSell = float(\"inf\"), 0\n",
    "        for price in prices:\n",
    "            bestBuy = min(bestBuy, price)\n",
    "            bestSell = max(bestSell, price - bestBuy)\n",
    "        return bestSell\n",
    "\n",
    "\n",
    "s = Solution()\n",
    "print(s.maxProfit([7, 6, 4, 3, 1]))"
   ]
  },
  {
   "cell_type": "code",
   "execution_count": 3,
   "metadata": {},
   "outputs": [
    {
     "name": "stdout",
     "output_type": "stream",
     "text": [
      "True\n"
     ]
    }
   ],
   "source": [
    "from typing import List\n",
    "\n",
    "\n",
    "class Solution:\n",
    "    def containsDuplicate(self, nums: List[int]) -> bool:\n",
    "        numSet = set()\n",
    "        for num in nums:\n",
    "            if num in numSet:\n",
    "                return True\n",
    "            numSet.add(num)\n",
    "        return False\n",
    "\n",
    "\n",
    "s = Solution()\n",
    "print(s.containsDuplicate([7, 6, 4, 1, 1]))"
   ]
  },
  {
   "cell_type": "code",
   "execution_count": 4,
   "metadata": {},
   "outputs": [
    {
     "name": "stdout",
     "output_type": "stream",
     "text": [
      "[0, 0, 9, 0, 0]\n"
     ]
    }
   ],
   "source": [
    "from typing import List\n",
    "\n",
    "\n",
    "class Solution:\n",
    "    def productExceptSelf(self, nums: List[int]) -> List[int]:\n",
    "        n = len(nums)\n",
    "        preProduct, postProduct, res = (\n",
    "            [1] * n,\n",
    "            [1] * n,\n",
    "            [],\n",
    "        )  # first and last are 1 respectively\n",
    "        for i in range(1, n):\n",
    "            preProduct[i] = (\n",
    "                preProduct[i - 1] * nums[i - 1]\n",
    "            )  # do not include current num\n",
    "        for i in range(n - 2, -1, -1):\n",
    "            postProduct[i] = postProduct[i + 1] * nums[i + 1]\n",
    "        for i in range(n):\n",
    "            res.append(postProduct[i] * preProduct[i])\n",
    "        return res\n",
    "\n",
    "\n",
    "s = Solution()\n",
    "print(s.productExceptSelf([-1, 1, 0, -3, 3]))"
   ]
  },
  {
   "cell_type": "code",
   "execution_count": 5,
   "metadata": {},
   "outputs": [
    {
     "name": "stdout",
     "output_type": "stream",
     "text": [
      "15\n",
      "15\n"
     ]
    }
   ],
   "source": [
    "from typing import List\n",
    "\n",
    "\n",
    "class Solution:\n",
    "    def maxSubArray(\n",
    "        self, nums: List[int]\n",
    "    ) -> int:  # DP by converting the problem in to a prefix sum problem\n",
    "        res, curPreSum, minPreSum = float(\"-inf\"), 0, 0\n",
    "\n",
    "        for num in nums:\n",
    "            curPreSum += num\n",
    "            res = max(res, curPreSum - minPreSum)\n",
    "            minPreSum = min(minPreSum, curPreSum)\n",
    "        return res\n",
    "\n",
    "    def maxSubArray1(self, nums: List[int]) -> int:\n",
    "        curSum, res = 0, nums[0]\n",
    "\n",
    "        for num in nums:\n",
    "            if curSum < 0:  # there is no value to add curSum as it decreases the res\n",
    "                curSum = 0\n",
    "            curSum += num\n",
    "            res = max(res, curSum)\n",
    "\n",
    "        return res\n",
    "\n",
    "\n",
    "s = Solution()\n",
    "print(s.maxSubArray([5, 4, -100, 7, 8]))\n",
    "print(s.maxSubArray1([5, 4, -100, 7, 8]))"
   ]
  },
  {
   "cell_type": "code",
   "execution_count": 6,
   "metadata": {},
   "outputs": [
    {
     "name": "stdout",
     "output_type": "stream",
     "text": [
      "56\n"
     ]
    }
   ],
   "source": [
    "from typing import List\n",
    "\n",
    "\n",
    "class Solution:\n",
    "    def maxProduct(self, nums: List[int]) -> int:\n",
    "        curMax, curMin, res = 1, 1, nums[0]\n",
    "\n",
    "        for num in nums:\n",
    "            vals = (num, num * curMax, num * curMin)\n",
    "            curMin, curMax = min(vals), max(vals)\n",
    "            res = max(res, curMax)\n",
    "        return res\n",
    "\n",
    "\n",
    "s = Solution()\n",
    "print(s.maxProduct([5, 4, -1, 7, 8]))"
   ]
  },
  {
   "cell_type": "code",
   "execution_count": 7,
   "metadata": {},
   "outputs": [
    {
     "name": "stdout",
     "output_type": "stream",
     "text": [
      "0\n"
     ]
    }
   ],
   "source": [
    "from typing import List\n",
    "\n",
    "\n",
    "class Solution:\n",
    "    def findMin(self, nums: List[int]) -> int:\n",
    "        left, right = 0, len(nums) - 1\n",
    "        while left < right:\n",
    "            mid = left + (right - left) // 2\n",
    "            if nums[mid] < nums[right]:  # all mid+1 to right should be larger\n",
    "                right = mid\n",
    "            else:  # min should be on the right side\n",
    "                left += 1\n",
    "        return nums[right]\n",
    "\n",
    "\n",
    "s = Solution()\n",
    "print(s.findMin([4, 5, 6, 7, 0, 1, 2]))"
   ]
  },
  {
   "cell_type": "code",
   "execution_count": 8,
   "metadata": {},
   "outputs": [
    {
     "name": "stdout",
     "output_type": "stream",
     "text": [
      "1\n"
     ]
    }
   ],
   "source": [
    "from typing import List\n",
    "\n",
    "\n",
    "class Solution:\n",
    "    def search(self, nums: List[int], target: int) -> int:\n",
    "        def findSmallestIndex() -> int:\n",
    "            left, right = 0, len(nums) - 1\n",
    "\n",
    "            while left < right:\n",
    "                mid = left + (right - left) // 2\n",
    "                if nums[mid] < nums[right]:  # all mid+1 to right should be larger\n",
    "                    right = mid\n",
    "                else:  # min should be on the right side\n",
    "                    left += 1\n",
    "            return right\n",
    "\n",
    "        smallestIndex = findSmallestIndex()\n",
    "        if nums[smallestIndex] == target:\n",
    "            return smallestIndex\n",
    "\n",
    "        left, right = 0, len(nums) - 1\n",
    "        if target == nums[right]:\n",
    "            return right\n",
    "        if target < nums[right]:\n",
    "            left = smallestIndex + 1\n",
    "        else:\n",
    "            right = smallestIndex - 1\n",
    "\n",
    "        while left <= right:\n",
    "            mid = (left + right) // 2\n",
    "            if nums[mid] == target:\n",
    "                return mid\n",
    "            if nums[mid] > target:\n",
    "                right = mid - 1\n",
    "            else:\n",
    "                left = mid + 1\n",
    "        return -1\n",
    "\n",
    "\n",
    "s = Solution()\n",
    "print(s.search([4, 5, 6, 7, 0, 1, 2], 5))"
   ]
  },
  {
   "cell_type": "code",
   "execution_count": 1,
   "metadata": {},
   "outputs": [
    {
     "name": "stdout",
     "output_type": "stream",
     "text": [
      "[[-1, -1, 2], [-1, 0, 1]]\n"
     ]
    }
   ],
   "source": [
    "from typing import List\n",
    "\n",
    "\n",
    "class Solution:\n",
    "    def threeSum(self, nums: List[int]) -> List[List[int]]:\n",
    "        nums.sort()\n",
    "        res = []\n",
    "        for i in range(len(nums) - 2):\n",
    "            if i == 0 or (i > 0 and nums[i] != nums[i - 1]):\n",
    "                left, right, sum = i + 1, len(nums) - 1, 0 - nums[i]\n",
    "                while left < right:\n",
    "                    if nums[left] + nums[right] == sum:\n",
    "                        res.append([nums[i], nums[left], nums[right]])\n",
    "                        while left < right and nums[left] == nums[left + 1]:\n",
    "                            left += 1\n",
    "                        while left < right and nums[right] == nums[right - 1]:\n",
    "                            right -= 1\n",
    "                        left += 1\n",
    "                        right -= 1\n",
    "                    elif nums[left] + nums[right] < sum:\n",
    "                        left += 1\n",
    "                    else:\n",
    "                        right -= 1\n",
    "        return res\n",
    "\n",
    "\n",
    "s = Solution()\n",
    "print(s.threeSum([-1, 0, 1, 2, -1, -4]))"
   ]
  },
  {
   "cell_type": "code",
   "execution_count": 2,
   "metadata": {},
   "outputs": [
    {
     "name": "stdout",
     "output_type": "stream",
     "text": [
      "49\n"
     ]
    }
   ],
   "source": [
    "from typing import List\n",
    "\n",
    "\n",
    "class Solution:\n",
    "    def maxArea(self, height: List[int]) -> int:\n",
    "        left, right, res = 0, len(height) - 1, 0\n",
    "        while left < right:\n",
    "            res = max(res, min(height[left], height[right]) * (right - left))\n",
    "            if height[left] < height[right]:\n",
    "                left += 1  # when height[left]==height[right], it doesn't matter which side moves first\n",
    "            else:\n",
    "                right -= 1\n",
    "        return res\n",
    "\n",
    "\n",
    "s = Solution()\n",
    "print(s.maxArea([1, 8, 6, 2, 5, 4, 8, 3, 7]))"
   ]
  },
  {
   "cell_type": "code",
   "execution_count": 7,
   "metadata": {},
   "outputs": [
    {
     "name": "stdout",
     "output_type": "stream",
     "text": [
      "-2\n"
     ]
    }
   ],
   "source": [
    "class Solution:\n",
    "    def getSum(self, a: int, b: int) -> int:\n",
    "        bitShort = 0xFFFFFFFF  # bitShort is initialized to 0xffffffff, which is a 32-bit integer with all bits set to 1 except for the sign bit. bitmask that allows us to work with 32bit integers and handle the overflow.\n",
    "\n",
    "        while b != 0:\n",
    "            carry = (a & b) << 1\n",
    "            a = a ^ b\n",
    "            b = carry\n",
    "\n",
    "        return a & bitShort if b > 0 else a\n",
    "\n",
    "\n",
    "s = Solution()\n",
    "print(s.getSum(3, -5))"
   ]
  },
  {
   "cell_type": "code",
   "execution_count": 8,
   "metadata": {},
   "outputs": [
    {
     "name": "stdout",
     "output_type": "stream",
     "text": [
      "30\n"
     ]
    }
   ],
   "source": [
    "class Solution:\n",
    "    def hammingWeight(self, n: int) -> int:\n",
    "        ans = 0\n",
    "\n",
    "        while n:\n",
    "            ans += 1\n",
    "            n &= n - 1\n",
    "\n",
    "        return ans\n",
    "\n",
    "\n",
    "s = Solution()\n",
    "print(s.hammingWeight(2147483645))"
   ]
  },
  {
   "cell_type": "code",
   "execution_count": 10,
   "metadata": {},
   "outputs": [
    {
     "name": "stdout",
     "output_type": "stream",
     "text": [
      "[0, 1, 1, 2, 1, 2, 2, 3, 1, 2, 2, 3, 2, 3, 3, 4]\n"
     ]
    }
   ],
   "source": [
    "from typing import List\n",
    "\n",
    "\n",
    "# Dynamic Programming with Bit Manipulation\n",
    "# The idea here is to use the number of 1's in i >> 1 (i.e., i divided by 2) and the last bit in i to find the number of 1's in i.\n",
    "class Solution:\n",
    "    def countBits(self, n: int) -> List[int]:\n",
    "        ans = [0] * (n + 1)\n",
    "        for i in range(1, n + 1):\n",
    "            ans[i] = ans[i >> 1] + (i & 1)\n",
    "        return ans\n",
    "\n",
    "\n",
    "s = Solution()\n",
    "print(s.countBits(15))"
   ]
  },
  {
   "cell_type": "code",
   "execution_count": 1,
   "metadata": {},
   "outputs": [
    {
     "name": "stdout",
     "output_type": "stream",
     "text": [
      "5\n"
     ]
    }
   ],
   "source": [
    "from typing import List\n",
    "\n",
    "\n",
    "class Solution:\n",
    "    def missingNumber(self, nums: List[int]) -> int:\n",
    "        n = len(nums)\n",
    "        totalSum = (n * (n + 1)) // 2\n",
    "        actual_sum = sum(nums)\n",
    "        return totalSum - actual_sum\n",
    "\n",
    "\n",
    "s = Solution()\n",
    "print(s.missingNumber([0, 1, 2, 3, 4, 6]))"
   ]
  },
  {
   "cell_type": "code",
   "execution_count": 2,
   "metadata": {},
   "outputs": [
    {
     "name": "stdout",
     "output_type": "stream",
     "text": [
      "2618032128\n"
     ]
    }
   ],
   "source": [
    "class Solution:\n",
    "    def reverseBits(self, n: int) -> int:\n",
    "        res = 0\n",
    "\n",
    "        for i in range(32):\n",
    "            res |= (n & 1) << (31 - i)\n",
    "            n >>= 1\n",
    "        return res\n",
    "\n",
    "\n",
    "s = Solution()\n",
    "print(s.reverseBits(12345))"
   ]
  },
  {
   "cell_type": "code",
   "execution_count": 7,
   "metadata": {},
   "outputs": [
    {
     "name": "stdout",
     "output_type": "stream",
     "text": [
      "8\n",
      "8\n"
     ]
    }
   ],
   "source": [
    "from functools import lru_cache\n",
    "\n",
    "\n",
    "class Solution:\n",
    "    def climbStairs(self, n: int) -> int:\n",
    "        @lru_cache(None)\n",
    "        def dfs(cur: int) -> int:\n",
    "            if cur == 1:\n",
    "                return 1\n",
    "            if cur == 2:\n",
    "                return 2\n",
    "            return dfs(cur - 1) + dfs(cur - 2)\n",
    "\n",
    "        return dfs(n)\n",
    "\n",
    "    def climbStairs1(self, n: int) -> int:\n",
    "        dp = [1] * n\n",
    "        dp[1] = 2\n",
    "        for i in range(2, n):\n",
    "            dp[i] = dp[i - 1] + dp[i - 2]\n",
    "        return dp[n - 1]\n",
    "\n",
    "\n",
    "s = Solution()\n",
    "input = 5\n",
    "print(s.climbStairs(input))\n",
    "print(s.climbStairs1(input))"
   ]
  },
  {
   "cell_type": "code",
   "execution_count": 9,
   "metadata": {},
   "outputs": [
    {
     "name": "stdout",
     "output_type": "stream",
     "text": [
      "2\n"
     ]
    }
   ],
   "source": [
    "from typing import List\n",
    "\n",
    "\n",
    "class Solution:\n",
    "    def coinChange(self, coins: List[int], amount: int) -> int:\n",
    "        dp = [float(\"inf\")] * (amount + 1)\n",
    "        dp[0] = 0\n",
    "\n",
    "        for i in range(1, amount + 1):\n",
    "            for j in range(len(coins)):\n",
    "                if i == coins[j]:\n",
    "                    dp[i] = 1\n",
    "                if i - coins[j] > 0:\n",
    "                    dp[i] = min(dp[i], dp[i - coins[j]] + 1)\n",
    "        return dp[-1] if dp[-1] != float(\"inf\") else -1\n",
    "\n",
    "\n",
    "s = Solution()\n",
    "print(s.coinChange([1, 5, 10, 15], 16))"
   ]
  },
  {
   "cell_type": "code",
   "execution_count": 1,
   "metadata": {},
   "outputs": [
    {
     "name": "stdout",
     "output_type": "stream",
     "text": [
      "4\n"
     ]
    }
   ],
   "source": [
    "from typing import List\n",
    "\n",
    "\n",
    "class Solution:\n",
    "    def lengthOfLIS(self, nums: List[int]) -> int:\n",
    "        dp = [1] * len(nums)\n",
    "        for i in range(len(nums)):\n",
    "            for j in range(i):\n",
    "                if nums[i] > nums[j]:\n",
    "                    dp[i] = max(dp[i], dp[j] + 1)\n",
    "        return max(dp)\n",
    "\n",
    "\n",
    "s = Solution()\n",
    "print(s.lengthOfLIS([10, 9, 2, 5, 3, 7, 101, 18]))"
   ]
  },
  {
   "cell_type": "code",
   "execution_count": 16,
   "metadata": {},
   "outputs": [
    {
     "name": "stdout",
     "output_type": "stream",
     "text": [
      "5\n"
     ]
    }
   ],
   "source": [
    "class Solution:\n",
    "    def longestCommonSubsequence(self, text1: str, text2: str) -> int:\n",
    "        m, n = len(text1), len(text2)\n",
    "        dp = [\n",
    "            [0] * (n + 1) for _ in range(m + 1)\n",
    "        ]  # Do not use [[0] * (n + 1)] * (m + 1) as the second * copy the address of the object so all rows are the same list\n",
    "\n",
    "        for i in range(1, m + 1):\n",
    "            for j in range(1, n + 1):\n",
    "                if text1[i - 1] == text2[j - 1]:\n",
    "                    dp[i][j] = dp[i - 1][j - 1] + 1\n",
    "                else:\n",
    "                    dp[i][j] = max(dp[i - 1][j], dp[i][j - 1])\n",
    "        return dp[m][n]\n",
    "\n",
    "\n",
    "s = Solution()\n",
    "print(s.longestCommonSubsequence(\"abcba\", \"abcbcba\"))"
   ]
  },
  {
   "cell_type": "code",
   "execution_count": 4,
   "metadata": {},
   "outputs": [
    {
     "name": "stdout",
     "output_type": "stream",
     "text": [
      "True\n",
      "False\n"
     ]
    }
   ],
   "source": [
    "from typing import List\n",
    "\n",
    "\n",
    "class Solution:\n",
    "    def wordBreak(self, s: str, wordDict: List[str]) -> bool:\n",
    "        dp, wordDictSet = [False] * (len(s) + 1), set(wordDict)\n",
    "        dp[0] = True\n",
    "        for i in range(1, len(s) + 1):\n",
    "            for j in range(i):\n",
    "                if dp[j] and s[j:i] in wordDictSet:\n",
    "                    dp[i] = True\n",
    "                    break\n",
    "        return dp[len(s)]\n",
    "\n",
    "\n",
    "s = Solution()\n",
    "print(s.wordBreak(\"applepenapple\", [\"apple\", \"pen\"]))\n",
    "print(s.wordBreak(\"catsandog\", [\"cats\", \"dog\", \"sand\", \"and\", \"cat\"]))"
   ]
  },
  {
   "cell_type": "code",
   "execution_count": 5,
   "metadata": {},
   "outputs": [
    {
     "name": "stdout",
     "output_type": "stream",
     "text": [
      "7\n"
     ]
    }
   ],
   "source": [
    "class Solution:\n",
    "    def combinationSum4(self, nums, target):\n",
    "        nums, combs = sorted(nums), [0] * (target + 1)\n",
    "        for i in range(target + 1):\n",
    "            for num in nums:\n",
    "                if num > i:\n",
    "                    break\n",
    "                if num == i:\n",
    "                    combs[i] += 1\n",
    "                if num < i:\n",
    "                    combs[i] += combs[i - num]\n",
    "        return combs[target]\n",
    "\n",
    "\n",
    "s = Solution()\n",
    "print(s.combinationSum4([1, 2, 3], 4))"
   ]
  },
  {
   "cell_type": "code",
   "execution_count": 4,
   "metadata": {},
   "outputs": [
    {
     "name": "stdout",
     "output_type": "stream",
     "text": [
      "4\n"
     ]
    }
   ],
   "source": [
    "from typing import List\n",
    "\n",
    "\n",
    "class Solution:\n",
    "    def rob(self, nums: List[int]) -> int:\n",
    "        n = len(nums)\n",
    "        dp = [0] * (n + 1)\n",
    "        dp[1] = nums[0]\n",
    "        for i in range(2, len(nums) + 1):\n",
    "            dp[i] = max(dp[i - 1], dp[i - 2] + nums[i - 1])\n",
    "        return dp[n]\n",
    "\n",
    "\n",
    "s = Solution()\n",
    "print(s.rob([1, 2, 3, 1]))"
   ]
  },
  {
   "cell_type": "code",
   "execution_count": 10,
   "metadata": {},
   "outputs": [
    {
     "name": "stdout",
     "output_type": "stream",
     "text": [
      "1001\n",
      "0\n"
     ]
    }
   ],
   "source": [
    "from typing import List\n",
    "\n",
    "\n",
    "class Solution:\n",
    "    def rob(self, nums: List[int]) -> int:\n",
    "        n = len(nums)\n",
    "        if n == 1:\n",
    "            return nums[0]\n",
    "        if n == 2:\n",
    "            return max(nums[1], nums[0])\n",
    "\n",
    "        startFirst, startSecond = [0] * (n + 1), [0] * (n + 1)\n",
    "        startFirst[1] = nums[0]\n",
    "        startSecond[2] = nums[1]\n",
    "\n",
    "        for i in range(2, n):\n",
    "            startFirst[i] = max(startFirst[i - 2] + nums[i - 1], startFirst[i - 1])\n",
    "\n",
    "        for i in range(3, n + 1):\n",
    "            startSecond[i] = max(startSecond[i - 2] + nums[i - 1], startSecond[i - 1])\n",
    "\n",
    "        return max(startFirst[n - 1], startSecond[n])\n",
    "\n",
    "\n",
    "s = Solution()\n",
    "print(s.rob([10, 1, 1, 100, 1000]))\n",
    "print(s.rob([0]))"
   ]
  },
  {
   "cell_type": "code",
   "execution_count": 13,
   "metadata": {},
   "outputs": [
    {
     "name": "stdout",
     "output_type": "stream",
     "text": [
      "3\n",
      "3\n"
     ]
    }
   ],
   "source": [
    "class Solution:\n",
    "    def numDecodings(self, s: str) -> int:\n",
    "        n = len(s)\n",
    "        dp = [0] * (n + 1)\n",
    "        dp[0] = 1  # leading dummy value\n",
    "        if s[0] != \"0\":\n",
    "            dp[1] = 1\n",
    "        else:\n",
    "            return 0\n",
    "        for i in range(2, n + 1):\n",
    "            if s[i - 1] != \"0\":\n",
    "                dp[i] += dp[i - 1]\n",
    "            if s[i - 2] == \"1\" or (s[i - 2] == \"2\" and s[i - 1] <= \"6\"):\n",
    "                dp[i] += dp[i - 2]\n",
    "        return dp[n]\n",
    "\n",
    "\n",
    "s = Solution()\n",
    "print(s.numDecodings(\"226\"))\n",
    "print(s.numDecodings(\"22678\"))"
   ]
  },
  {
   "cell_type": "code",
   "execution_count": 1,
   "metadata": {},
   "outputs": [
    {
     "name": "stdout",
     "output_type": "stream",
     "text": [
      "28\n"
     ]
    }
   ],
   "source": [
    "class Solution:\n",
    "    def uniquePaths(self, m: int, n: int) -> int:\n",
    "        dp = [[1] * n for _ in range(m)]\n",
    "        for i in range(1, m):\n",
    "            for j in range(1, n):\n",
    "                dp[i][j] = dp[i][j - 1] + dp[i - 1][j]\n",
    "        return dp[m - 1][n - 1]\n",
    "\n",
    "\n",
    "s = Solution()\n",
    "print(s.uniquePaths(3, 7))"
   ]
  },
  {
   "cell_type": "code",
   "execution_count": 3,
   "metadata": {},
   "outputs": [
    {
     "name": "stdout",
     "output_type": "stream",
     "text": [
      "True\n",
      "True\n"
     ]
    }
   ],
   "source": [
    "from typing import List\n",
    "from functools import lru_cache\n",
    "\n",
    "class Solution:\n",
    "    def canJump(self, nums: List[int]) -> bool:\n",
    "        n = len(nums)\n",
    "\n",
    "        @lru_cache(None)\n",
    "        def dfs(index: int) -> bool:\n",
    "            if index >= n - 1:\n",
    "                return True\n",
    "            for i in range(1, nums[index] + 1):\n",
    "                if dfs(index + i):\n",
    "                    return True\n",
    "            return False\n",
    "\n",
    "        return dfs(0)\n",
    "\n",
    "    def canJumpGreedy(self, nums: List[int]) -> bool:\n",
    "        n, maxDistance = len(nums), 0\n",
    "        for i in range(n):\n",
    "            if i > maxDistance:\n",
    "                return False\n",
    "            maxDistance = max(maxDistance, i + nums[i])\n",
    "\n",
    "        return True\n",
    "\n",
    "\n",
    "s = Solution()\n",
    "input = [2, 3, 1, 1, 4]\n",
    "print(s.canJump(input))\n",
    "print(s.canJumpGreedy(input))"
   ]
  }
 ],
 "metadata": {
  "kernelspec": {
   "display_name": "Python 3",
   "language": "python",
   "name": "python3"
  },
  "language_info": {
   "codemirror_mode": {
    "name": "ipython",
    "version": 3
   },
   "file_extension": ".py",
   "mimetype": "text/x-python",
   "name": "python",
   "nbconvert_exporter": "python",
   "pygments_lexer": "ipython3",
   "version": "3.9.6"
  }
 },
 "nbformat": 4,
 "nbformat_minor": 2
}
